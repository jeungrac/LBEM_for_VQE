{
 "cells": [
  {
   "cell_type": "code",
   "execution_count": 8,
   "metadata": {},
   "outputs": [],
   "source": [
    "from util import *\n",
    "from expval_calc_q_optim import *\n",
    "from generate_training_set import *\n",
    "\n",
    "from qiskit.utils import QuantumInstance \n",
    "from qiskit.test.mock import FakeVigo\n",
    "from qiskit import Aer, IBMQ\n",
    "\n",
    "import matplotlib.pyplot as plt"
   ]
  },
  {
   "cell_type": "code",
   "execution_count": 17,
   "metadata": {},
   "outputs": [
    {
     "name": "stderr",
     "output_type": "stream",
     "text": [
      "configrc.store_credentials:WARNING:2022-02-25 17:20:47,222: Credentials already present. Set overwrite=True to overwrite.\n",
      "ibmqfactory.load_account:WARNING:2022-02-25 17:20:48,265: Credentials are already in use. The existing account in the session will be replaced.\n"
     ]
    },
    {
     "name": "stdout",
     "output_type": "stream",
     "text": [
      "[<AccountProvider for IBMQ(hub='ibm-q', group='open', project='main')>, <AccountProvider for IBMQ(hub='ibm-q-community', group='qhack-hackathon', project='7-qubit')>, <AccountProvider for IBMQ(hub='ibm-q-kaist', group='internal', project='default')>, <AccountProvider for IBMQ(hub='ibm-q-kaist', group='internal', project='reservations')>, <AccountProvider for IBMQ(hub='ibm-q-kaist', group='internal', project='test')>]\n"
     ]
    }
   ],
   "source": [
    "# Create appropriate instances\n",
    "IBMQ.save_account('2fc2fecb5ddfe847ded9ce1ba4db314b66932f993586311c514b5768a6792b3d2536e0df9885b25663b4143b99198cc88fcbb53c644b7e561ca469b770aa08dc')\n",
    "IBMQ.load_account()\n",
    "print(IBMQ.providers())\n",
    "hardware_provider = IBMQ.get_provider(hub='ibm-q-community', group='qhack-hackathon')\n",
    "hardware_backend = hardware_provider.get_backend('ibm_perth')\n",
    "em_instance = QuantumInstance(backend = hardware_backend, shots = 10000)\n",
    "sv_backend = Aer.get_backend('aer_simulator_statevector')\n",
    "ef_instance = QuantumInstance(backend = sv_backend)"
   ]
  },
  {
   "cell_type": "code",
   "execution_count": 18,
   "metadata": {},
   "outputs": [
    {
     "name": "stdout",
     "output_type": "stream",
     "text": [
      "Ansatz & qubit hamiltonian created\n",
      "Training circuits generated\n",
      "All expectation values calculated\n",
      "q optimized\n"
     ]
    }
   ],
   "source": [
    "# LBEM\n",
    "seed = 100\n",
    "\n",
    "group_pauli_op, [ansatz,num_par_gates] = main('H2', 0.774, 2, 1, 'simple')\n",
    "group_pauli_op = group_pauli_op['grouped_paulis']\n",
    "print('Ansatz & qubit hamiltonian created')\n",
    "\n",
    "trunc_T, trunc_P = truncate_training_set(num_par_gates, 0, 0, s = seed, exhaustive= True)\n",
    "circuit_list = get_circuits_dict(ansatz, trunc_T, trunc_P, num_par_gates)\n",
    "print('Training circuits generated')\n",
    "\n",
    "com_ef, com_em = expval_calc(group_pauli_op, circuit_list, em_instance, ef_instance)\n",
    "print('All expectation values calculated')\n",
    "\n",
    "q = q_optimize(group_pauli_op, circuit_list, com_em, com_ef)\n",
    "print('q optimized')"
   ]
  },
  {
   "cell_type": "code",
   "execution_count": 19,
   "metadata": {},
   "outputs": [
    {
     "name": "stdout",
     "output_type": "stream",
     "text": [
      "Angle: 0.0 | Error free value: (-0.7381674497530155+0j) | Error mitigated value: (-0.7538869426085755+0j) | Noisy value: (-0.6782303624254071+0j)\n",
      "Angle: 0.3141592653589793 | Error free value: (-0.7203725283225795+0j) | Error mitigated value: (-0.7319789748105905+0j) | Noisy value: (-0.6534400915218953+0j)\n",
      "Angle: 0.6283185307179586 | Error free value: (-0.6687296549253905+0j) | Error mitigated value: (-0.6723196143341499+0j) | Noisy value: (-0.6131701946453418+0j)\n",
      "Angle: 0.9424777960769379 | Error free value: (-0.5882939938266221+0j) | Error mitigated value: (-0.5920853640880137+0j) | Noisy value: (-0.542643998845445+0j)\n",
      "Angle: 1.2566370614359172 | Error free value: (-0.48693914796282656+0j) | Error mitigated value: (-0.48835797967722655+0j) | Noisy value: (-0.4558984035174996+0j)\n",
      "Angle: 1.5707963267948966 | Error free value: (-0.3745864358278877+0j) | Error mitigated value: (-0.3877672280355029+0j) | Noisy value: (-0.3636589056095268+0j)\n",
      "Angle: 1.8849555921538759 | Error free value: (-0.26223372369294873+0j) | Error mitigated value: (-0.2677502835360819+0j) | Noisy value: (-0.2652006559295503+0j)\n",
      "Angle: 2.199114857512855 | Error free value: (-0.16087887782915317+0j) | Error mitigated value: (-0.1562047139781266+0j) | Noisy value: (-0.17942937039247042+0j)\n",
      "Angle: 2.5132741228718345 | Error free value: (-0.08044321673038475+0j) | Error mitigated value: (-0.08915715697615273+0j) | Noisy value: (-0.11085157834776584+0j)\n",
      "Angle: 2.827433388230814 | Error free value: (-0.028800343333195817+0j) | Error mitigated value: (-0.03042957929830771+0j) | Noisy value: (-0.06433648041050288+0j)\n",
      "Angle: 3.141592653589793 | Error free value: (-0.011005421902759799+0j) | Error mitigated value: (-0.0197355010433242+0j) | Noisy value: (-0.057288444973789196+0j)\n",
      "Angle: 3.4557519189487724 | Error free value: (-0.028800343333195817+0j) | Error mitigated value: (-0.0391994898733318+0j) | Noisy value: (-0.08515765830982963+0j)\n",
      "Angle: 3.7699111843077517 | Error free value: (-0.08044321673038475+0j) | Error mitigated value: (-0.0834514993814291+0j) | Noisy value: (-0.12739924336973016+0j)\n",
      "Angle: 4.084070449666731 | Error free value: (-0.16087887782915308+0j) | Error mitigated value: (-0.17541843008205293+0j) | Noisy value: (-0.1941884264988267+0j)\n",
      "Angle: 4.39822971502571 | Error free value: (-0.2622337236929486+0j) | Error mitigated value: (-0.2759952973112213+0j) | Noisy value: (-0.2835914034423411+0j)\n",
      "Angle: 4.71238898038469 | Error free value: (-0.3745864358278876+0j) | Error mitigated value: (-0.4003977383068675+0j) | Noisy value: (-0.38157305778153516+0j)\n",
      "Angle: 5.026548245743669 | Error free value: (-0.4869391479628265+0j) | Error mitigated value: (-0.4980721263062458+0j) | Noisy value: (-0.47333030383833347+0j)\n",
      "Angle: 5.340707511102648 | Error free value: (-0.588293993826622+0j) | Error mitigated value: (-0.6034879568279821+0j) | Noisy value: (-0.5587334978930819+0j)\n",
      "Angle: 5.654866776461628 | Error free value: (-0.6687296549253905+0j) | Error mitigated value: (-0.6904513824074074+0j) | Noisy value: (-0.6228960028546034+0j)\n",
      "Angle: 5.969026041820607 | Error free value: (-0.7203725283225793+0j) | Error mitigated value: (-0.7363302438589039+0j) | Noisy value: (-0.6684447948702426+0j)\n"
     ]
    }
   ],
   "source": [
    "# Test using some random angles\n",
    "angles = (2*np.pi/20) * np.array(list(range(20)))\n",
    "efs = []\n",
    "ems = []\n",
    "ns = []\n",
    "\n",
    "for angle in angles:\n",
    "    ef_expval, em_expval, n_expval = test(ansatz, [angle], group_pauli_op, q, ef_instance, em_instance)\n",
    "    print('Angle: {} | Error free value: {} | Error mitigated value: {} | Noisy value: {}'.format(angle, ef_expval, em_expval, n_expval))\n",
    "    \n",
    "    efs.append(ef_expval)\n",
    "    ems.append(em_expval)\n",
    "    ns.append(n_expval)"
   ]
  },
  {
   "cell_type": "code",
   "execution_count": 20,
   "metadata": {},
   "outputs": [
    {
     "data": {
      "text/plain": [
       "<matplotlib.legend.Legend at 0x7fe0d1cb88b0>"
      ]
     },
     "execution_count": 20,
     "metadata": {},
     "output_type": "execute_result"
    },
    {
     "data": {
      "image/png": "[encoded data removed]",
      "text/plain": [
       "<Figure size 432x288 with 1 Axes>"
      ]
     },
     "metadata": {
      "needs_background": "light"
     },
     "output_type": "display_data"
    }
   ],
   "source": [
    "plt.scatter(angles, efs, c = 'tab:blue', label = 'Error Free')\n",
    "plt.scatter(angles, ems, c = 'tab:pink', label = 'Error Mitigated')\n",
    "plt.scatter(angles, ns, c = 'tab:green', label = 'Noisy')\n",
    "plt.legend()"
   ]
  },
  {
   "cell_type": "code",
   "execution_count": 21,
   "metadata": {},
   "outputs": [
    {
     "data": {
      "text/plain": [
       "<matplotlib.legend.Legend at 0x7fe140369250>"
      ]
     },
     "execution_count": 21,
     "metadata": {},
     "output_type": "execute_result"
    },
    {
     "data": {
      "image/png": "[encoded data removed]",
      "text/plain": [
       "<Figure size 432x288 with 1 Axes>"
      ]
     },
     "metadata": {
      "needs_background": "light"
     },
     "output_type": "display_data"
    }
   ],
   "source": [
    "plt.scatter(angles, np.abs(np.array(ems) - np.array(efs)), c = 'tab:blue', label = 'EM - EF')\n",
    "plt.scatter(angles, np.abs(np.array(ns) - np.array(efs)), c = 'tab:pink', label = 'N - EF')\n",
    "plt.legend()"
   ]
  },
  {
   "cell_type": "code",
   "execution_count": null,
   "metadata": {},
   "outputs": [],
   "source": []
  }
 ],
 "metadata": {
  "interpreter": {
   "hash": "766e0d0516c4f25c2b1f01a59606ef04191a3cb324d6d185230911e47ef2666f"
  },
  "kernelspec": {
   "display_name": "Python 3 (ipykernel)",
   "language": "python",
   "name": "python3"
  },
  "language_info": {
   "codemirror_mode": {
    "name": "ipython",
    "version": 3
   },
   "file_extension": ".py",
   "mimetype": "text/x-python",
   "name": "python",
   "nbconvert_exporter": "python",
   "pygments_lexer": "ipython3",
   "version": "3.9.7"
  }
 },
 "nbformat": 4,
 "nbformat_minor": 2
}
