{
 "cells": [
  {
   "cell_type": "code",
   "execution_count": 1,
   "metadata": {},
   "outputs": [],
   "source": [
    "from util import *\n",
    "from expval_calc_q_optim import *\n",
    "from generate_training_set import *\n",
    "\n",
    "from qiskit.utils import QuantumInstance \n",
    "from qiskit.test.mock import FakeVigo\n",
    "from qiskit import Aer\n",
    "\n",
    "import matplotlib.pyplot as plt"
   ]
  },
  {
   "cell_type": "code",
   "execution_count": 2,
   "metadata": {},
   "outputs": [],
   "source": [
    "# Create appropriate instances\n",
    "vigo_backend = FakeVigo()\n",
    "em_instance = QuantumInstance(backend = vigo_backend, shots = 10000)\n",
    "sv_backend = Aer.get_backend('aer_simulator_statevector')\n",
    "ef_instance = QuantumInstance(backend = sv_backend)"
   ]
  },
  {
   "cell_type": "code",
   "execution_count": 3,
   "metadata": {},
   "outputs": [
    {
     "name": "stdout",
     "output_type": "stream",
     "text": [
      "Ansatz & qubit hamiltonian created\n",
      "Training circuits generated\n",
      "All expectation values calculated\n",
      "q optimized\n"
     ]
    }
   ],
   "source": [
    "# LBEM\n",
    "seed = 100\n",
    "\n",
    "group_pauli_op, [ansatz,num_par_gates] = main('H2', 0.774, 2, 1, 'num_particle_preserving')\n",
    "group_pauli_op = group_pauli_op['grouped_paulis']\n",
    "print('Ansatz & qubit hamiltonian created')\n",
    "\n",
    "trunc_T, trunc_P = truncate_training_set(num_par_gates, 0, 0, s = seed, exhaustive= True)\n",
    "circuit_list = get_circuits_dict(ansatz, trunc_T, trunc_P, num_par_gates)\n",
    "print('Training circuits generated')\n",
    "\n",
    "com_ef, com_em = expval_calc(group_pauli_op, circuit_list, em_instance, ef_instance)\n",
    "print('All expectation values calculated')\n",
    "\n",
    "q = q_optimize(group_pauli_op, circuit_list, com_em, com_ef)\n",
    "print('q optimized')"
   ]
  },
  {
   "cell_type": "code",
   "execution_count": 4,
   "metadata": {},
   "outputs": [
    {
     "name": "stdout",
     "output_type": "stream",
     "text": [
      "Angle: 0.0 | Error free value: (0.7601782935585369+0j) | Error mitigated value: (0.7860175697553567+0j) | Noisy value: (0.6894911414528035+0j)\n",
      "Angle: 0.3141592653589793 | Error free value: (0.5094568328582583+0j) | Error mitigated value: (0.5403414199082182+0j) | Noisy value: (0.48433807607173673+0j)\n",
      "Angle: 0.6283185307179586 | Error free value: (0.06834387491332178+0j) | Error mitigated value: (0.09288129387958567+0j) | Noisy value: (0.08572355353018771+0j)\n",
      "Angle: 0.9424777960769379 | Error free value: (-0.3946704232193109+0j) | Error mitigated value: (-0.3808587539984566+0j) | Noisy value: (-0.3050610941266309+0j)\n",
      "Angle: 1.2566370614359172 | Error free value: (-0.7027303369301509+0j) | Error mitigated value: (-0.7080270702388527+0j) | Noisy value: (-0.5913276204753498+0j)\n",
      "Angle: 1.5707963267948966 | Error free value: (-0.7381674497530166+0j) | Error mitigated value: (-0.7619456648749553+0j) | Noisy value: (-0.6357456525823458+0j)\n",
      "Angle: 1.8849555921538759 | Error free value: (-0.48744598905273884+0j) | Error mitigated value: (-0.506207602804294+0j) | Noisy value: (-0.415632614006167+0j)\n",
      "Angle: 2.199114857512855 | Error free value: (-0.04633303110780193+0j) | Error mitigated value: (-0.06102084767414363+0j) | Noisy value: (-0.05287398371135149+0j)\n",
      "Angle: 2.5132741228718345 | Error free value: (0.416681267024831+0j) | Error mitigated value: (0.40792304951231617+0j) | Noisy value: (0.3618461214933265+0j)\n",
      "Angle: 2.827433388230814 | Error free value: (0.7247411807356708+0j) | Error mitigated value: (0.7368098423658467+0j) | Noisy value: (0.6398665867966257+0j)\n",
      "Angle: 3.141592653589793 | Error free value: (0.7601782935585367+0j) | Error mitigated value: (0.7925645475957144+0j) | Noisy value: (0.6871078300050242+0j)\n",
      "Angle: 3.4557519189487724 | Error free value: (0.5094568328582589+0j) | Error mitigated value: (0.5467898601924929+0j) | Noisy value: (0.48103075909950876+0j)\n",
      "Angle: 3.7699111843077517 | Error free value: (0.06834387491332194+0j) | Error mitigated value: (0.09612786121198506+0j) | Noisy value: (0.08169769016791939+0j)\n",
      "Angle: 4.084070449666731 | Error free value: (-0.3946704232193107+0j) | Error mitigated value: (-0.38525611175353297+0j) | Noisy value: (-0.3138418894354771+0j)\n",
      "Angle: 4.39822971502571 | Error free value: (-0.7027303369301504+0j) | Error mitigated value: (-0.713075723367973+0j) | Noisy value: (-0.6013336011080558+0j)\n",
      "Angle: 4.71238898038469 | Error free value: (-0.7381674497530166+0j) | Error mitigated value: (-0.759803042310075+0j) | Noisy value: (-0.6447213942246232+0j)\n",
      "Angle: 5.026548245743669 | Error free value: (-0.4874459890527387+0j) | Error mitigated value: (-0.517796968961077+0j) | Noisy value: (-0.4334670631374004+0j)\n",
      "Angle: 5.340707511102648 | Error free value: (-0.04633303110780215+0j) | Error mitigated value: (-0.06344882214003356+0j) | Noisy value: (-0.05020707919923084+0j)\n",
      "Angle: 5.654866776461628 | Error free value: (0.416681267024831+0j) | Error mitigated value: (0.4158014763343247+0j) | Noisy value: (0.35265124035785694+0j)\n",
      "Angle: 5.969026041820607 | Error free value: (0.7247411807356708+0j) | Error mitigated value: (0.7358726070057579+0j) | Noisy value: (0.650429093240017+0j)\n"
     ]
    }
   ],
   "source": [
    "# Test using some random angles\n",
    "angles = (2*np.pi/20) * np.array(list(range(20)))\n",
    "efs = []\n",
    "ems = []\n",
    "ns = []\n",
    "\n",
    "for angle in angles:\n",
    "    ef_expval, em_expval, n_expval = test(ansatz, [angle], group_pauli_op, q, ef_instance, em_instance)\n",
    "    print('Angle: {} | Error free value: {} | Error mitigated value: {} | Noisy value: {}'.format(angle, ef_expval, em_expval, n_expval))\n",
    "    \n",
    "    efs.append(ef_expval)\n",
    "    ems.append(em_expval)\n",
    "    ns.append(n_expval)"
   ]
  },
  {
   "cell_type": "code",
   "execution_count": 5,
   "metadata": {},
   "outputs": [
    {
     "data": {
      "text/plain": [
       "<matplotlib.legend.Legend at 0x7f5762c3a8b0>"
      ]
     },
     "execution_count": 5,
     "metadata": {},
     "output_type": "execute_result"
    },
    {
     "data": {
      "image/png": "[encoded data removed]",
      "text/plain": [
       "<Figure size 432x288 with 1 Axes>"
      ]
     },
     "metadata": {
      "needs_background": "light"
     },
     "output_type": "display_data"
    }
   ],
   "source": [
    "plt.scatter(angles, efs, c = 'tab:blue', label = 'Error Free')\n",
    "plt.scatter(angles, ems, c = 'tab:pink', label = 'Error Mitigated')\n",
    "plt.scatter(angles, ns, c = 'tab:green', label = 'Noisy')\n",
    "plt.legend()"
   ]
  },
  {
   "cell_type": "code",
   "execution_count": 6,
   "metadata": {},
   "outputs": [
    {
     "data": {
      "text/plain": [
       "<matplotlib.legend.Legend at 0x7f57661c8970>"
      ]
     },
     "execution_count": 6,
     "metadata": {},
     "output_type": "execute_result"
    },
    {
     "data": {
      "image/png": "[encoded data removed]",
      "text/plain": [
       "<Figure size 432x288 with 1 Axes>"
      ]
     },
     "metadata": {
      "needs_background": "light"
     },
     "output_type": "display_data"
    }
   ],
   "source": [
    "plt.scatter(angles, np.abs(np.array(ems) - np.array(efs)), c = 'tab:blue', label = 'EM - EF')\n",
    "plt.scatter(angles, np.abs(np.array(ns) - np.array(efs)), c = 'tab:pink', label = 'N - EF')\n",
    "plt.legend()"
   ]
  },
  {
   "cell_type": "code",
   "execution_count": 7,
   "metadata": {},
   "outputs": [
    {
     "data": {
      "text/plain": [
       "(array([ 0.14194186,  0.06747891,  0.13828064, -0.06541691, -0.22458071,\n",
       "         0.08115016,  0.16268455,  0.12371261, -0.11375525,  0.24046799,\n",
       "         0.17608165,  0.29945689,  0.33289895, -0.09781343, -0.15121869,\n",
       "         0.13645273, -0.01360663]),\n",
       " ['II',\n",
       "  'IX',\n",
       "  'IY',\n",
       "  'IZ',\n",
       "  'XI',\n",
       "  'XX',\n",
       "  'XY',\n",
       "  'XZ',\n",
       "  'YI',\n",
       "  'YX',\n",
       "  'YY',\n",
       "  'YZ',\n",
       "  'ZI',\n",
       "  'ZX',\n",
       "  'ZY',\n",
       "  'ZZ',\n",
       "  'q0'])"
      ]
     },
     "execution_count": 7,
     "metadata": {},
     "output_type": "execute_result"
    }
   ],
   "source": [
    "q"
   ]
  },
  {
   "cell_type": "code",
   "execution_count": null,
   "metadata": {},
   "outputs": [],
   "source": []
  }
 ],
 "metadata": {
  "interpreter": {
   "hash": "766e0d0516c4f25c2b1f01a59606ef04191a3cb324d6d185230911e47ef2666f"
  },
  "kernelspec": {
   "display_name": "Python 3.8.3 ('base')",
   "language": "python",
   "name": "python3"
  },
  "language_info": {
   "codemirror_mode": {
    "name": "ipython",
    "version": 3
   },
   "file_extension": ".py",
   "mimetype": "text/x-python",
   "name": "python",
   "nbconvert_exporter": "python",
   "pygments_lexer": "ipython3",
   "version": "3.8.3"
  },
  "orig_nbformat": 4
 },
 "nbformat": 4,
 "nbformat_minor": 2
}
