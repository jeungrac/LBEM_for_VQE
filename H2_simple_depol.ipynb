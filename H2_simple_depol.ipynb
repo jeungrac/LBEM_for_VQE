{
 "cells": [
  {
   "cell_type": "code",
   "execution_count": 1,
   "metadata": {},
   "outputs": [],
   "source": [
    "from util import *\n",
    "from expval_calc_q_optim import *\n",
    "from generate_training_set import *\n",
    "\n",
    "from qiskit.utils import QuantumInstance \n",
    "from qiskit import Aer\n",
    "import qiskit.providers.aer.noise as noise\n",
    "\n",
    "import matplotlib.pyplot as plt"
   ]
  },
  {
   "cell_type": "code",
   "execution_count": 2,
   "metadata": {},
   "outputs": [],
   "source": [
    "# Create appropriate instances\n",
    "# Error probabilities\n",
    "prob_1 = 0.01  # 1-qubit gate\n",
    "prob_2 = 0.1   # 2-qubit gate\n",
    "\n",
    "# Depolarizing quantum errors\n",
    "error_1 = noise.depolarizing_error(prob_1, 1)\n",
    "error_2 = noise.depolarizing_error(prob_2, 2)\n",
    "\n",
    "# Add errors to noise model\n",
    "noise_model = noise.NoiseModel()\n",
    "noise_model.add_all_qubit_quantum_error(error_1, ['u1', 'u2', 'u3'])\n",
    "noise_model.add_all_qubit_quantum_error(error_2, ['cx'])\n",
    "\n",
    "qasm_backend = Aer.get_backend('qasm_simulator')\n",
    "em_instance = QuantumInstance(backend = qasm_backend, noise_model= noise_model, shots = 10000)\n",
    "sv_backend = Aer.get_backend('aer_simulator_statevector')\n",
    "ef_instance = QuantumInstance(backend = sv_backend)"
   ]
  },
  {
   "cell_type": "code",
   "execution_count": 4,
   "metadata": {},
   "outputs": [
    {
     "name": "stdout",
     "output_type": "stream",
     "text": [
      "Ansatz & qubit hamiltonian created\n",
      "Training circuits generated\n",
      "All expectation values calculated\n",
      "q optimized\n"
     ]
    }
   ],
   "source": [
    "# LBEM\n",
    "seed = 100\n",
    "\n",
    "group_pauli_op, [ansatz,num_par_gates] = main('H2', 0.774, 2, 1, 'simple')\n",
    "group_pauli_op = group_pauli_op\n",
    "print('Ansatz & qubit hamiltonian created')\n",
    "\n",
    "trunc_T, trunc_P = truncate_training_set(num_par_gates, 0, 0, s = seed, exhaustive= True)\n",
    "circuit_list = get_circuits_dict(ansatz, trunc_T, trunc_P, num_par_gates)\n",
    "print('Training circuits generated')\n",
    "\n",
    "com_ef, com_em = expval_calc(group_pauli_op, circuit_list, em_instance, ef_instance)\n",
    "print('All expectation values calculated')\n",
    "\n",
    "q = q_optimize(group_pauli_op, circuit_list, com_em, com_ef)\n",
    "print('q optimized')"
   ]
  },
  {
   "cell_type": "code",
   "execution_count": 5,
   "metadata": {},
   "outputs": [
    {
     "name": "stdout",
     "output_type": "stream",
     "text": [
      "Angle: 0.0 | Error free value: (-0.3745864358278883+0j) | Error mitigated value: (-0.3749620460322215+0j) | Noisy value: (-0.2971292402856088+0j)\n",
      "Angle: 0.3141592653589793 | Error free value: (-0.3562528707098897+0j) | Error mitigated value: (-0.35551772892688605+0j) | Noisy value: (-0.2916003379351948+0j)\n",
      "Angle: 0.6283185307179586 | Error free value: (-0.3030467924471023+0j) | Error mitigated value: (-0.3051441398871263+0j) | Noisy value: (-0.24521654805261878+0j)\n",
      "Angle: 0.9424777960769379 | Error free value: (-0.2201763826884337+0j) | Error mitigated value: (-0.21801261890625642+0j) | Noisy value: (-0.17820129267015816+0j)\n",
      "Angle: 1.2566370614359172 | Error free value: (-0.1157535745331582+0j) | Error mitigated value: (-0.11979487147052303+0j) | Noisy value: (-0.08617462906831015+0j)\n",
      "Angle: 1.5707963267948966 | Error free value: (-4.066342918994943e-17+0j) | Error mitigated value: (-0.004818354310117999+0j) | Noisy value: (-0.0026049719632555905+0j)\n",
      "Angle: 1.8849555921538759 | Error free value: (0.11575357453315822+0j) | Error mitigated value: (0.1159313284690846+0j) | Noisy value: (0.08950374449149344+0j)\n",
      "Angle: 2.199114857512855 | Error free value: (0.22017638268843356+0j) | Error mitigated value: (0.2196682459161493+0j) | Noisy value: (0.1796235304134584+0j)\n",
      "Angle: 2.5132741228718345 | Error free value: (0.3030467924471024+0j) | Error mitigated value: (0.3007439448475332+0j) | Noisy value: (0.24431232861261712+0j)\n",
      "Angle: 2.827433388230814 | Error free value: (0.35625287070988976+0j) | Error mitigated value: (0.3593921147716573+0j) | Noisy value: (0.286483706121169+0j)\n",
      "Angle: 3.141592653589793 | Error free value: (0.3745864358278884+0j) | Error mitigated value: (0.3777084233190442+0j) | Noisy value: (0.2981319966954107+0j)\n",
      "Angle: 3.4557519189487724 | Error free value: (0.3562528707098898+0j) | Error mitigated value: (0.3559315064936744+0j) | Noisy value: (0.2858916785440387+0j)\n",
      "Angle: 3.7699111843077517 | Error free value: (0.3030467924471024+0j) | Error mitigated value: (0.30027175874209266+0j) | Noisy value: (0.25096712031180113+0j)\n",
      "Angle: 4.084070449666731 | Error free value: (0.22017638268843376+0j) | Error mitigated value: (0.22375356795055845+0j) | Noisy value: (0.1738335562151284+0j)\n",
      "Angle: 4.39822971502571 | Error free value: (0.11575357453315835+0j) | Error mitigated value: (0.11989181888426255+0j) | Noisy value: (0.10067460522614936+0j)\n",
      "Angle: 4.71238898038469 | Error free value: (2.0701322349730754e-16+0j) | Error mitigated value: (0.0007411687681019125+0j) | Noisy value: (0.0021831471970491607+0j)\n",
      "Angle: 5.026548245743669 | Error free value: (-0.11575357453315802+0j) | Error mitigated value: (-0.11964985533539903+0j) | Noisy value: (-0.10158719486099994+0j)\n",
      "Angle: 5.340707511102648 | Error free value: (-0.22017638268843356+0j) | Error mitigated value: (-0.2261556272960465+0j) | Noisy value: (-0.17594234558259178+0j)\n",
      "Angle: 5.654866776461628 | Error free value: (-0.3030467924471023+0j) | Error mitigated value: (-0.30885371431424957+0j) | Noisy value: (-0.24323768878198926+0j)\n",
      "Angle: 5.969026041820607 | Error free value: (-0.3562528707098895+0j) | Error mitigated value: (-0.35558765046943686+0j) | Noisy value: (-0.2942633573108907+0j)\n"
     ]
    }
   ],
   "source": [
    "# Test using some random angles\n",
    "angles = (2*np.pi/20) * np.array(list(range(20)))\n",
    "efs = []\n",
    "ems = []\n",
    "ns = []\n",
    "\n",
    "for angle in angles:\n",
    "    ef_expval, em_expval, n_expval = test(ansatz, [angle], group_pauli_op, q, ef_instance, em_instance)\n",
    "    print('Angle: {} | Error free value: {} | Error mitigated value: {} | Noisy value: {}'.format(angle, ef_expval, em_expval, n_expval))\n",
    "    \n",
    "    efs.append(ef_expval)\n",
    "    ems.append(em_expval)\n",
    "    ns.append(n_expval)"
   ]
  },
  {
   "cell_type": "code",
   "execution_count": 6,
   "metadata": {},
   "outputs": [
    {
     "data": {
      "text/plain": [
       "<matplotlib.legend.Legend at 0x7f33ddb66670>"
      ]
     },
     "execution_count": 6,
     "metadata": {},
     "output_type": "execute_result"
    },
    {
     "data": {
      "image/png": "[encoded data removed]",
      "text/plain": [
       "<Figure size 432x288 with 1 Axes>"
      ]
     },
     "metadata": {
      "needs_background": "light"
     },
     "output_type": "display_data"
    }
   ],
   "source": [
    "plt.scatter(angles, efs, c = 'tab:blue', label = 'Error Free')\n",
    "plt.scatter(angles, ems, c = 'tab:pink', label = 'Error Mitigated')\n",
    "plt.scatter(angles, ns, c = 'tab:green', label = 'Noisy')\n",
    "plt.legend()"
   ]
  },
  {
   "cell_type": "code",
   "execution_count": 7,
   "metadata": {},
   "outputs": [
    {
     "data": {
      "text/plain": [
       "<matplotlib.legend.Legend at 0x7f33dda72850>"
      ]
     },
     "execution_count": 7,
     "metadata": {},
     "output_type": "execute_result"
    },
    {
     "data": {
      "image/png": "[encoded data removed]",
      "text/plain": [
       "<Figure size 432x288 with 1 Axes>"
      ]
     },
     "metadata": {
      "needs_background": "light"
     },
     "output_type": "display_data"
    }
   ],
   "source": [
    "plt.scatter(angles, np.abs(np.array(ems) - np.array(efs)), c = 'tab:blue', label = 'EM - EF')\n",
    "plt.scatter(angles, np.abs(np.array(ns) - np.array(efs)), c = 'tab:pink', label = 'N - EF')\n",
    "plt.legend()"
   ]
  },
  {
   "cell_type": "code",
   "execution_count": 8,
   "metadata": {},
   "outputs": [
    {
     "data": {
      "text/plain": [
       "(array([ 3.49665964e-01, -2.51002843e-01, -2.70346054e-01,  3.73223478e-01,\n",
       "        -2.43321309e-04]),\n",
       " ['I', 'X', 'Y', 'Z', 'q0'])"
      ]
     },
     "execution_count": 8,
     "metadata": {},
     "output_type": "execute_result"
    }
   ],
   "source": [
    "q"
   ]
  },
  {
   "cell_type": "code",
   "execution_count": 9,
   "metadata": {},
   "outputs": [
    {
     "data": {
      "text/html": [
       "<pre style=\"word-wrap: normal;white-space: pre;background: #fff0;line-height: 1.1;font-family: &quot;Courier New&quot;,Courier,monospace\">     ┌───┐     ┌─────────┐┌───┐\n",
       "q_0: ┤ H ├──■──┤ Rx(phi) ├┤ X ├\n",
       "     └───┘┌─┴─┐└─────────┘└─┬─┘\n",
       "q_1: ─────┤ X ├─────────────■──\n",
       "          └───┘                </pre>"
      ],
      "text/plain": [
       "     ┌───┐     ┌─────────┐┌───┐\n",
       "q_0: ┤ H ├──■──┤ Rx(phi) ├┤ X ├\n",
       "     └───┘┌─┴─┐└─────────┘└─┬─┘\n",
       "q_1: ─────┤ X ├─────────────■──\n",
       "          └───┘                "
      ]
     },
     "execution_count": 9,
     "metadata": {},
     "output_type": "execute_result"
    }
   ],
   "source": [
    "ansatz.draw()"
   ]
  },
  {
   "cell_type": "code",
   "execution_count": null,
   "metadata": {},
   "outputs": [],
   "source": []
  }
 ],
 "metadata": {
  "interpreter": {
   "hash": "766e0d0516c4f25c2b1f01a59606ef04191a3cb324d6d185230911e47ef2666f"
  },
  "kernelspec": {
   "display_name": "Python 3.8.3 ('base')",
   "language": "python",
   "name": "python3"
  },
  "language_info": {
   "codemirror_mode": {
    "name": "ipython",
    "version": 3
   },
   "file_extension": ".py",
   "mimetype": "text/x-python",
   "name": "python",
   "nbconvert_exporter": "python",
   "pygments_lexer": "ipython3",
   "version": "3.8.3"
  },
  "orig_nbformat": 4
 },
 "nbformat": 4,
 "nbformat_minor": 2
}
