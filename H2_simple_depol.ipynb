{
 "cells": [
  {
   "cell_type": "code",
   "execution_count": 1,
   "metadata": {},
   "outputs": [],
   "source": [
    "from util import *\n",
    "from expval_calc_q_optim import *\n",
    "from generate_training_set import *\n",
    "\n",
    "from qiskit.utils import QuantumInstance \n",
    "from qiskit import Aer\n",
    "import qiskit.providers.aer.noise as noise\n",
    "\n",
    "import matplotlib.pyplot as plt"
   ]
  },
  {
   "cell_type": "code",
   "execution_count": 2,
   "metadata": {},
   "outputs": [],
   "source": [
    "# Create appropriate instances\n",
    "# Error probabilities\n",
    "prob_1 = 0.01  # 1-qubit gate\n",
    "prob_2 = 0.1   # 2-qubit gate\n",
    "\n",
    "# Depolarizing quantum errors\n",
    "error_1 = noise.depolarizing_error(prob_1, 1)\n",
    "error_2 = noise.depolarizing_error(prob_2, 2)\n",
    "\n",
    "# Add errors to noise model\n",
    "noise_model = noise.NoiseModel()\n",
    "noise_model.add_all_qubit_quantum_error(error_1, ['u1', 'u2', 'u3'])\n",
    "noise_model.add_all_qubit_quantum_error(error_2, ['cx'])\n",
    "\n",
    "qasm_backend = Aer.get_backend('qasm_simulator')\n",
    "em_instance = QuantumInstance(backend = qasm_backend, noise_model= noise_model, shots = 10000)\n",
    "sv_backend = Aer.get_backend('aer_simulator_statevector')\n",
    "ef_instance = QuantumInstance(backend = sv_backend)"
   ]
  },
  {
   "cell_type": "code",
   "execution_count": 3,
   "metadata": {},
   "outputs": [
    {
     "name": "stdout",
     "output_type": "stream",
     "text": [
      "Ansatz & qubit hamiltonian created\n",
      "Training circuits generated\n",
      "All expectation values calculated\n",
      "q optimized\n"
     ]
    }
   ],
   "source": [
    "# LBEM\n",
    "seed = 100\n",
    "\n",
    "group_pauli_op, [ansatz,num_par_gates] = main('H2', 0.774, 2, 1, 'simple')\n",
    "group_pauli_op = group_pauli_op['grouped_paulis']\n",
    "print('Ansatz & qubit hamiltonian created')\n",
    "\n",
    "trunc_T, trunc_P = truncate_training_set(num_par_gates, 0, 0, s = seed, exhaustive= True)\n",
    "circuit_list = get_circuits_dict(ansatz, trunc_T, trunc_P, num_par_gates)\n",
    "print('Training circuits generated')\n",
    "\n",
    "com_ef, com_em = expval_calc(group_pauli_op, circuit_list, em_instance, ef_instance)\n",
    "print('All expectation values calculated')\n",
    "\n",
    "q = q_optimize(group_pauli_op, circuit_list, com_em, com_ef)\n",
    "print('q optimized')"
   ]
  },
  {
   "cell_type": "code",
   "execution_count": 4,
   "metadata": {},
   "outputs": [
    {
     "name": "stdout",
     "output_type": "stream",
     "text": [
      "Angle: 0.0 | Error free value: (-0.7381674497530166+0j) | Error mitigated value: (-0.7433104232295549+0j) | Noisy value: (-0.5968332945031277+0j)\n",
      "Angle: 0.3141592653589793 | Error free value: (-0.7203725283225806+0j) | Error mitigated value: (-0.7214128379783782+0j) | Noisy value: (-0.5772836312642937+0j)\n",
      "Angle: 0.6283185307179586 | Error free value: (-0.6687296549253914+0j) | Error mitigated value: (-0.6690921138148093+0j) | Noisy value: (-0.5389317020778736+0j)\n",
      "Angle: 0.9424777960769379 | Error free value: (-0.5882939938266231+0j) | Error mitigated value: (-0.594873380340114+0j) | Noisy value: (-0.4849565959032985+0j)\n",
      "Angle: 1.2566370614359172 | Error free value: (-0.48693914796282733+0j) | Error mitigated value: (-0.4845314678722534+0j) | Noisy value: (-0.39364049350436936+0j)\n",
      "Angle: 1.5707963267948966 | Error free value: (-0.37458643582788836+0j) | Error mitigated value: (-0.37600737564912023+0j) | Noisy value: (-0.30693560429675476+0j)\n",
      "Angle: 1.8849555921538759 | Error free value: (-0.2622337236929493+0j) | Error mitigated value: (-0.25984489880804185+0j) | Noisy value: (-0.21049057059227877+0j)\n",
      "Angle: 2.199114857512855 | Error free value: (-0.16087887782915358+0j) | Error mitigated value: (-0.1598328607238236+0j) | Noisy value: (-0.1295054969226119+0j)\n",
      "Angle: 2.5132741228718345 | Error free value: (-0.08044321673038511+0j) | Error mitigated value: (-0.07483324318525988+0j) | Noisy value: (-0.06474437961894419+0j)\n",
      "Angle: 2.827433388230814 | Error free value: (-0.028800343333196057+0j) | Error mitigated value: (-0.028449644719384725+0j) | Noisy value: (-0.02173610872898726+0j)\n",
      "Angle: 3.141592653589793 | Error free value: (-0.011005421902760049+0j) | Error mitigated value: (-0.012406223643408964+0j) | Noisy value: (-0.0070391620246394275+0j)\n",
      "Angle: 3.4557519189487724 | Error free value: (-0.028800343333196057+0j) | Error mitigated value: (-0.026259024207726345+0j) | Noisy value: (-0.0169364695858797+0j)\n",
      "Angle: 3.7699111843077517 | Error free value: (-0.08044321673038506+0j) | Error mitigated value: (-0.07988634013945178+0j) | Noisy value: (-0.0670251616775846+0j)\n",
      "Angle: 4.084070449666731 | Error free value: (-0.16087887782915353+0j) | Error mitigated value: (-0.1572417959321513+0j) | Noisy value: (-0.13355788923722064+0j)\n",
      "Angle: 4.39822971502571 | Error free value: (-0.26223372369294917+0j) | Error mitigated value: (-0.2633864142483039+0j) | Noisy value: (-0.2137599479094205+0j)\n",
      "Angle: 4.71238898038469 | Error free value: (-0.37458643582788825+0j) | Error mitigated value: (-0.3817330736865626+0j) | Noisy value: (-0.3071963798817458+0j)\n",
      "Angle: 5.026548245743669 | Error free value: (-0.4869391479628272+0j) | Error mitigated value: (-0.4874998539756157+0j) | Noisy value: (-0.3948594613692328+0j)\n",
      "Angle: 5.340707511102648 | Error free value: (-0.588293993826623+0j) | Error mitigated value: (-0.5849289986122591+0j) | Noisy value: (-0.4797290509418715+0j)\n",
      "Angle: 5.654866776461628 | Error free value: (-0.6687296549253914+0j) | Error mitigated value: (-0.6674422135469354+0j) | Noisy value: (-0.5490759889255469+0j)\n",
      "Angle: 5.969026041820607 | Error free value: (-0.7203725283225804+0j) | Error mitigated value: (-0.7264987565248773+0j) | Noisy value: (-0.58200830995856+0j)\n"
     ]
    }
   ],
   "source": [
    "# Test using some random angles\n",
    "angles = (2*np.pi/20) * np.array(list(range(20)))\n",
    "efs = []\n",
    "ems = []\n",
    "ns = []\n",
    "\n",
    "for angle in angles:\n",
    "    ef_expval, em_expval, n_expval = test(ansatz, [angle], group_pauli_op, q, ef_instance, em_instance)\n",
    "    print('Angle: {} | Error free value: {} | Error mitigated value: {} | Noisy value: {}'.format(angle, ef_expval, em_expval, n_expval))\n",
    "    \n",
    "    efs.append(ef_expval)\n",
    "    ems.append(em_expval)\n",
    "    ns.append(n_expval)"
   ]
  },
  {
   "cell_type": "code",
   "execution_count": 5,
   "metadata": {},
   "outputs": [
    {
     "data": {
      "text/plain": [
       "<matplotlib.legend.Legend at 0x7f2d5ab59a30>"
      ]
     },
     "execution_count": 5,
     "metadata": {},
     "output_type": "execute_result"
    },
    {
     "data": {
      "image/png": "[encoded data removed]",
      "text/plain": [
       "<Figure size 432x288 with 1 Axes>"
      ]
     },
     "metadata": {
      "needs_background": "light"
     },
     "output_type": "display_data"
    }
   ],
   "source": [
    "plt.scatter(angles, efs, c = 'tab:blue', label = 'Error Free')\n",
    "plt.scatter(angles, ems, c = 'tab:pink', label = 'Error Mitigated')\n",
    "plt.scatter(angles, ns, c = 'tab:green', label = 'Noisy')\n",
    "plt.legend()"
   ]
  },
  {
   "cell_type": "code",
   "execution_count": 6,
   "metadata": {},
   "outputs": [
    {
     "data": {
      "text/plain": [
       "<matplotlib.legend.Legend at 0x7f2d58b3f520>"
      ]
     },
     "execution_count": 6,
     "metadata": {},
     "output_type": "execute_result"
    },
    {
     "data": {
      "image/png": "[encoded data removed]",
      "text/plain": [
       "<Figure size 432x288 with 1 Axes>"
      ]
     },
     "metadata": {
      "needs_background": "light"
     },
     "output_type": "display_data"
    }
   ],
   "source": [
    "plt.scatter(angles, np.abs(np.array(ems) - np.array(efs)), c = 'tab:blue', label = 'EM - EF')\n",
    "plt.scatter(angles, np.abs(np.array(ns) - np.array(efs)), c = 'tab:pink', label = 'N - EF')\n",
    "plt.legend()"
   ]
  },
  {
   "cell_type": "code",
   "execution_count": null,
   "metadata": {},
   "outputs": [],
   "source": []
  }
 ],
 "metadata": {
  "interpreter": {
   "hash": "766e0d0516c4f25c2b1f01a59606ef04191a3cb324d6d185230911e47ef2666f"
  },
  "kernelspec": {
   "display_name": "Python 3.8.3 ('base')",
   "language": "python",
   "name": "python3"
  },
  "language_info": {
   "codemirror_mode": {
    "name": "ipython",
    "version": 3
   },
   "file_extension": ".py",
   "mimetype": "text/x-python",
   "name": "python",
   "nbconvert_exporter": "python",
   "pygments_lexer": "ipython3",
   "version": "3.8.3"
  },
  "orig_nbformat": 4
 },
 "nbformat": 4,
 "nbformat_minor": 2
}
